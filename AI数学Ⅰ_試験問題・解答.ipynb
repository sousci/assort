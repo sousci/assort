{
  "nbformat": 4,
  "nbformat_minor": 0,
  "metadata": {
    "colab": {
      "provenance": [],
      "toc_visible": true,
      "authorship_tag": "ABX9TyObK7QJwyyDho/39nOzIx7e",
      "include_colab_link": true
    },
    "kernelspec": {
      "name": "python3",
      "display_name": "Python 3"
    },
    "language_info": {
      "name": "python"
    }
  },
  "cells": [
    {
      "cell_type": "markdown",
      "metadata": {
        "id": "view-in-github",
        "colab_type": "text"
      },
      "source": [
        "<a href=\"https://colab.research.google.com/github/sousci/assort/blob/main/AI%E6%95%B0%E5%AD%A6%E2%85%A0_%E8%A9%A6%E9%A8%93%E5%95%8F%E9%A1%8C%E3%83%BB%E8%A7%A3%E7%AD%94.ipynb\" target=\"_parent\"><img src=\"https://colab.research.google.com/assets/colab-badge.svg\" alt=\"Open In Colab\"/></a>"
      ]
    },
    {
      "cell_type": "markdown",
      "source": [
        "# AI数学Ⅰ レポート課題\n",
        "レポートの進め方\n",
        "1. このノートブック(.ipynb)を自身のGoogleDriveにコピーします\n",
        "1. プログラムの空欄を埋め、正しく動作する状態にします\n",
        "1. ノートブックの名前を『R6f_AI数学演習レポート_【名前】』として、共有リンクをTeamsに貼り付けてください。\n"
      ],
      "metadata": {
        "id": "g7mUZCbMvHFU"
      }
    },
    {
      "cell_type": "markdown",
      "source": [
        "## 1.計算\n",
        "\n",
        "次の計算をするプログラムを完成させましょう。"
      ],
      "metadata": {
        "id": "t1LlykkvoBtt"
      }
    },
    {
      "cell_type": "markdown",
      "source": [
        "① $1+2+3+ ... 97++98+99$"
      ],
      "metadata": {
        "id": "I7IpSCwKi3bE"
      }
    },
    {
      "cell_type": "code",
      "source": [
        "ans1 = 0\n",
        "for i in range(1, ____): # i=100は含まず99までであることに注意\n",
        "    ans1 += i\n",
        "print(sum)"
      ],
      "metadata": {
        "id": "aQGqGrjdi22g"
      },
      "execution_count": null,
      "outputs": []
    },
    {
      "cell_type": "markdown",
      "source": [
        "② $\\sqrt{65536}÷\\sqrt{1024}$"
      ],
      "metadata": {
        "id": "Ui9qNJm7i3tb"
      }
    },
    {
      "cell_type": "code",
      "source": [
        "ans2 = 65536**(____) / 1024**(____)\n",
        "print(ans2)"
      ],
      "metadata": {
        "id": "d3y9m4UOi4CL"
      },
      "execution_count": null,
      "outputs": []
    },
    {
      "cell_type": "markdown",
      "source": [
        "③ $20240728÷29$の余り"
      ],
      "metadata": {
        "id": "c2chmTESi4Pe"
      }
    },
    {
      "cell_type": "code",
      "source": [
        "ans3 = 20240728 _____ 29\n",
        "print(ans3)"
      ],
      "metadata": {
        "id": "YJ4fgrA7i4jj"
      },
      "execution_count": null,
      "outputs": []
    },
    {
      "cell_type": "markdown",
      "source": [
        "④ $4(\\frac{1}{1}-\\frac{1}{3}+\\frac{1}{5}-\\frac{1}{7}+\\frac{1}{9}-...-\\frac{1}{999})$を小数点以下第2位まで  \n",
        "【ヒント】ライプニッツの公式と呼ばれる有名な級数です"
      ],
      "metadata": {
        "id": "Y11KBdvFjB6U"
      }
    },
    {
      "cell_type": "code",
      "source": [
        "from fractions import Fraction\n",
        "ans4 = 0\n",
        "for i in range(1, 501):\n",
        "    if i % 2 == 1: # 奇数項は+\n",
        "        ans4 ____ Fraction(1, 2*i-1)\n",
        "    else:          # 偶数項は-\n",
        "        ans4 ____ Fraction(1, 2*i-1)\n",
        "print(round(float(4 * ans4), 2))"
      ],
      "metadata": {
        "id": "n-W8_9JajCn8"
      },
      "execution_count": null,
      "outputs": []
    },
    {
      "cell_type": "markdown",
      "source": [
        "## 2.関数"
      ],
      "metadata": {
        "id": "6gL_U5BjoukQ"
      }
    },
    {
      "cell_type": "markdown",
      "source": [
        "暑さ指数(WBGT)は熱中症の危険度を判断する数値として利用されています。  \n",
        "WBGTは、乾湿球温度計による\n",
        "- 乾球温度 $T_d$\n",
        "- 湿球温度 $T_w$\n",
        "\n",
        "に加えて、直射日光の影響を考慮し\n",
        "- 黒球温度 $T_b$\n",
        "\n",
        "の3つを、次の式で計算します。\n",
        "\n",
        "$$\n",
        "WBGT = 0.7×T_w + 0.2×T_b + 0.1×T_d\n",
        "$$\n",
        "\n",
        "> 参考：『熱中症予防情報サイト』\"https://www.wbgt.env.go.jp/doc_observation.php\"\n",
        "\n",
        "WBGTを求める関数を定義し、解答に使用しましょう。\n",
        "\n",
        "① 空欄（下線部_____）を埋めて、WBGTを返す自作関数wbgt()を完成させましょう。"
      ],
      "metadata": {
        "id": "DA5wQ90mjY2N"
      }
    },
    {
      "cell_type": "code",
      "source": [
        "def wbgt(w, b, d): # w:湿球、b:黒球、d:乾球\n",
        "    return ____________\n",
        "\n",
        "tw = 26 # 湿球温度\n",
        "tb = 27 # 黒球温度\n",
        "td = 28 # 乾球温度\n",
        "\n",
        "print('湿球{0}度、黒球{1}度、乾球{2}度のとき、WBGTは{3}です'.format(tw, tb, td, wbgt(tw, tb, td)))"
      ],
      "metadata": {
        "id": "4ggpZ7RBjZMp"
      },
      "execution_count": null,
      "outputs": []
    },
    {
      "cell_type": "markdown",
      "source": [
        "② 次の温度のとき、WBGTはいくらになりますか。小数点以下1位までで答えましょう。\n",
        "- 湿球温度：29度\n",
        "- 黒球温度：37度\n",
        "- 乾球温度：31度"
      ],
      "metadata": {
        "id": "zBm-28pGjZbY"
      }
    },
    {
      "cell_type": "code",
      "source": [
        "tw = ___ # 湿球温度\n",
        "tb = ___ # 黒球温度\n",
        "td = ___ # 乾球温度\n",
        "\n",
        "print('湿球{0}度、黒球{1}度、乾球{2}度のとき、WBGTは{3}です'.format(tw, tb, td, wbgt(tw, tb, td)))"
      ],
      "metadata": {
        "id": "Mib8CqUrjZtE"
      },
      "execution_count": null,
      "outputs": []
    },
    {
      "cell_type": "markdown",
      "source": [
        "③ WBGTが28を超えると熱中症リスクが高まると言われています。WBGTの計算結果が28を超えたら警告するプログラムを完成させましょう。  \n",
        "【ヒント】①の温度のときはWBGTが28以下、②の温度のときはWBGTが28を超えます。動作確認に使用しましょう。"
      ],
      "metadata": {
        "id": "-GTcRlMTjZ4y"
      }
    },
    {
      "cell_type": "code",
      "source": [
        "if ______ > ______:\n",
        "    print(\"熱中症に注意\") # WBGTが28を超えるとき、警告する\n",
        "else:\n",
        "    print(\"安全です\")"
      ],
      "metadata": {
        "id": "SzhWvNe2jaM1"
      },
      "execution_count": null,
      "outputs": []
    },
    {
      "cell_type": "markdown",
      "source": [
        "## 3.入力を受け取る\n"
      ],
      "metadata": {
        "id": "uFt2mbjUp_w4"
      }
    },
    {
      "cell_type": "markdown",
      "source": [
        "① 2つのユーザー入力を**浮動小数点型**で受け取り、その和を計算するプログラムを完成させましょう。  "
      ],
      "metadata": {
        "id": "dx-SG_sBj5T6"
      }
    },
    {
      "cell_type": "code",
      "source": [
        "a = float(________)\n",
        "b = float(________)\n",
        "print(a + b)"
      ],
      "metadata": {
        "id": "9lOK7Wlvj5kr"
      },
      "execution_count": null,
      "outputs": []
    },
    {
      "cell_type": "markdown",
      "source": [
        "② 入力する度にその数を加算していくプログラムを完成させましょう。"
      ],
      "metadata": {
        "id": "aDfY9kmaj5yI"
      }
    },
    {
      "cell_type": "code",
      "source": [
        "num = 0\n",
        "while(1): # 無限ループ。数字以外を入力するとエラーで停止する\n",
        "    num += float(________)\n",
        "    print(\"合計値：\", num)"
      ],
      "metadata": {
        "id": "6aRTsMjHj6H5"
      },
      "execution_count": null,
      "outputs": []
    },
    {
      "cell_type": "markdown",
      "source": [
        "③ 三平方の定理は直角三角形に対する定理なので、三平方の定理が成り立つときにその三角形は直角三角形であると言えます。入力した3つの値からこれを判定するプログラムを完成させましょう。  \n",
        "スペース区切りのデータを1行で受け取るには`list(map(int, input().split()))`と書きます。"
      ],
      "metadata": {
        "id": "P4oQJpCCj6UK"
      }
    },
    {
      "cell_type": "code",
      "source": [
        "triangle = list(map(int, input().split()))\n",
        "triangle.sort() # 昇順にソート\n",
        "print(triangle)\n",
        "\n",
        "if ________ + ________ == triangle[2]**2:\n",
        "    print(\"直角三角形です\")\n",
        "else:\n",
        "    print(\"直角三角形ではない\")"
      ],
      "metadata": {
        "id": "mW0fXbaEj6l9"
      },
      "execution_count": null,
      "outputs": []
    },
    {
      "cell_type": "markdown",
      "source": [
        "## 4.グラフの表示\n",
        "\n",
        "① matplotlib.pyplotを使って、次のcsvデータの散布図を表示しましょう。  \n",
        "リンク：  [https://github.com/sousci/assort/raw/main/%E5%B9%B3%E5%9D%87%E6%B0%97%E6%B8%A9%E3%81%A8%E3%82%A2%E3%82%A4%E3%82%B9%E6%94%AF%E5%87%BA%E9%A1%8D.csv](https://github.com/sousci/assort/raw/main/%E5%B9%B3%E5%9D%87%E6%B0%97%E6%B8%A9%E3%81%A8%E3%82%A2%E3%82%A4%E3%82%B9%E6%94%AF%E5%87%BA%E9%A1%8D.csv)"
      ],
      "metadata": {
        "id": "fIMjUghTY_99"
      }
    },
    {
      "cell_type": "code",
      "source": [
        "import numpy as np\n",
        "import pandas as pd\n",
        "import matplotlib.pyplot as plt\n",
        "\n",
        "# データの読み込み\n",
        "file_path = 'https://github.com/sousci/assort/raw/main/%E5%B9%B3%E5%9D%87%E6%B0%97%E6%B8%A9%E3%81%A8%E3%82%A2%E3%82%A4%E3%82%B9%E6%94%AF%E5%87%BA%E9%A1%8D.csv'\n",
        "train_data = pd.read_csv(file_path, encoding='shift_jis')\n",
        "\n",
        "# データの確認\n",
        "print(train_data)\n",
        "\n",
        "# 1列目と2列目のデータを取得\n",
        "x_numbers = train_data.iloc[:, 0]\n",
        "y_numbers = train_data.iloc[:, 1]\n",
        "\n",
        "# 散布図の作成\n",
        "plt.scatter(x_numbers, y_numbers)\n",
        "plt.xlabel(train_data.columns[____])\n",
        "plt.ylabel(train_data.columns[____])\n",
        "plt.________()"
      ],
      "metadata": {
        "id": "P3LWnW0zkM7B"
      },
      "execution_count": null,
      "outputs": []
    },
    {
      "cell_type": "markdown",
      "source": [
        "## 5.平均・分散・標準偏差\n",
        "5名のテストの点数は次の通りです。  \n",
        "[42, 58, 59, 71, 80]"
      ],
      "metadata": {
        "id": "cO_VD6Pse1aU"
      }
    },
    {
      "cell_type": "markdown",
      "source": [
        "① このテストの平均点を求めましょう。"
      ],
      "metadata": {
        "id": "UejUABZAkQ64"
      }
    },
    {
      "cell_type": "code",
      "source": [
        "score = [42, 58, 59, 71, 80]\n",
        "print(np.______(score))"
      ],
      "metadata": {
        "id": "pzlX2q0GkQdx"
      },
      "execution_count": null,
      "outputs": []
    },
    {
      "cell_type": "markdown",
      "source": [
        "② このテストの分散を求めましょう。"
      ],
      "metadata": {
        "id": "FmnnrPtVkRS7"
      }
    },
    {
      "cell_type": "code",
      "source": [
        "score = [42, 58, 59, 71, 80]\n",
        "print(np.______(score))"
      ],
      "metadata": {
        "id": "OOC0uzWwkRiM"
      },
      "execution_count": null,
      "outputs": []
    },
    {
      "cell_type": "markdown",
      "source": [
        "③ このテストの標準偏差を求めましょう。"
      ],
      "metadata": {
        "id": "J8hl6OCfkRuV"
      }
    },
    {
      "cell_type": "code",
      "source": [
        "score = [42, 58, 59, 71, 80]\n",
        "print(np.______(score))"
      ],
      "metadata": {
        "id": "qj_PlY3mkSPC"
      },
      "execution_count": null,
      "outputs": []
    },
    {
      "cell_type": "markdown",
      "source": [
        "## 6.相関"
      ],
      "metadata": {
        "id": "iiupsx-7lC6x"
      }
    },
    {
      "cell_type": "markdown",
      "source": [
        "①問題4の気温とアイスの売上の相関係数を求めましょう。"
      ],
      "metadata": {
        "id": "IwEoY63UlI6t"
      }
    },
    {
      "cell_type": "code",
      "source": [
        "import numpy as np\n",
        "import pandas as pd\n",
        "import matplotlib.pyplot as plt\n",
        "\n",
        "# データの読み込み\n",
        "file_path = 'https://github.com/sousci/assort/raw/main/%E5%B9%B3%E5%9D%87%E6%B0%97%E6%B8%A9%E3%81%A8%E3%82%A2%E3%82%A4%E3%82%B9%E6%94%AF%E5%87%BA%E9%A1%8D.csv'\n",
        "train_data = pd.read_csv(file_path, encoding='shift_jis')\n",
        "\n",
        "# データの確認\n",
        "print(train_data)\n",
        "\n",
        "# 1列目と2列目のデータを取得\n",
        "x_numbers = train_data.iloc[:, 0]\n",
        "y_numbers = train_data.iloc[:, 1]\n",
        "\n",
        "# NumPyのcorrcoef（相関係数）メソッドを使って相関係数を計算\n",
        "correlation_matrix = np.corrcoef(____ , _____)\n",
        "\n",
        "# 相関係数を出力\n",
        "print(\"相関係数:\", correlation_matrix[0, 1])"
      ],
      "metadata": {
        "id": "1WWtTfB6lTbT"
      },
      "execution_count": null,
      "outputs": []
    },
    {
      "cell_type": "markdown",
      "source": [
        "## 7.SymPy\n",
        "SymPyを使って次の作業を行いましょう。"
      ],
      "metadata": {
        "id": "z4aTZbIelXbj"
      }
    },
    {
      "cell_type": "markdown",
      "source": [
        "① $x^3+6x^2y+12xy^2+8y^3$ の因数分解"
      ],
      "metadata": {
        "id": "EbmDenSSlezc"
      }
    },
    {
      "cell_type": "code",
      "source": [
        "from sympy import Symbol\n",
        "x = Symbol('x')\n",
        "y = Symbol('y')\n",
        "\n",
        "from sympy import factor\n",
        "expr1 = ___________________________\n",
        "factor(expr1)"
      ],
      "metadata": {
        "id": "AejIywfCl6zl"
      },
      "execution_count": null,
      "outputs": []
    },
    {
      "cell_type": "markdown",
      "source": [
        "② $(3x-\\frac{1}{2})^3$ の展開"
      ],
      "metadata": {
        "id": "arx8uoORl786"
      }
    },
    {
      "cell_type": "code",
      "source": [
        "from sympy import Symbol\n",
        "x = Symbol('x')\n",
        "\n",
        "from sympy import expand\n",
        "expr2 = ___________________________\n",
        "expand(expr2)"
      ],
      "metadata": {
        "id": "WyTBsjj2l7bM"
      },
      "execution_count": null,
      "outputs": []
    },
    {
      "cell_type": "markdown",
      "source": [
        "③ $\\frac{4x}{x+1}+\\frac{x}{x-2}=3$ の解"
      ],
      "metadata": {
        "id": "rDogtl_-l8X9"
      }
    },
    {
      "cell_type": "code",
      "source": [
        "from sympy import Symbol\n",
        "x = Symbol('x')\n",
        "\n",
        "from sympy import solve\n",
        "expr3 = ___________________________\n",
        "solve(expr3)"
      ],
      "metadata": {
        "id": "HmwZbVshl8pj"
      },
      "execution_count": null,
      "outputs": []
    },
    {
      "cell_type": "markdown",
      "source": [
        "④ 連立方程式の解  \n",
        "$$\n",
        "\\begin{cases}\n",
        "    a + b + c = 12 \\\\\n",
        "    a + 2b = 11 \\\\\n",
        "    a + 2b + 3c = 26\n",
        "  \\end{cases}\n",
        "$$"
      ],
      "metadata": {
        "id": "JO3YnoUml7Lz"
      }
    },
    {
      "cell_type": "code",
      "source": [
        "from sympy import symbols\n",
        "a, b, c = symbols('a, b, c')\n",
        "\n",
        "from sympy import solve\n",
        "expr4_1 = a + b + c - 12\n",
        "expr4_2 = ______________________\n",
        "expr4_3 = ______________________\n",
        "\n",
        "solve((________,________,________))"
      ],
      "metadata": {
        "id": "VExNcZlJ2ZRD"
      },
      "execution_count": null,
      "outputs": []
    },
    {
      "cell_type": "markdown",
      "source": [
        "## 8.集合"
      ],
      "metadata": {
        "id": "5PEcHgq96PLC"
      }
    },
    {
      "cell_type": "markdown",
      "source": [
        "① 集合Aは2から10までの素数を、集合Bは2から10までの奇数を格納し、その積集合(intersect)を求めましょう。"
      ],
      "metadata": {
        "id": "6p44itym6PIO"
      }
    },
    {
      "cell_type": "code",
      "source": [
        "from sympy import FiniteSet\n",
        "a = FiniteSet(2, 3, 5, 7)\n",
        "b = FiniteSet(3, 5, 7, 9)\n",
        "\n",
        "a.________(b)"
      ],
      "metadata": {
        "id": "6pJwaxlr6sAx"
      },
      "execution_count": null,
      "outputs": []
    },
    {
      "cell_type": "markdown",
      "source": [
        "② 集合Aと集合Bの和集合(union)を求めましょう。"
      ],
      "metadata": {
        "id": "KKUCtyBJPouL"
      }
    },
    {
      "cell_type": "code",
      "source": [
        "from sympy import FiniteSet\n",
        "a = FiniteSet(2, 3, 5, 7)\n",
        "b = FiniteSet(3, 5, 7, 9)\n",
        "\n",
        "a.________(b)"
      ],
      "metadata": {
        "id": "BSWCTvIv7QBh"
      },
      "execution_count": null,
      "outputs": []
    },
    {
      "cell_type": "markdown",
      "source": [
        "② 集合Aと集合Bの積集合から、べき集合を求めましょう。"
      ],
      "metadata": {
        "id": "QMeP8j0p7lUb"
      }
    },
    {
      "cell_type": "code",
      "source": [
        "from sympy import FiniteSet\n",
        "a = FiniteSet(2, 3, 5, 7)\n",
        "b = FiniteSet(3, 5, 7, 9)\n",
        "\n",
        "a.________(b).________()"
      ],
      "metadata": {
        "id": "GTOHw81d_m6k"
      },
      "execution_count": null,
      "outputs": []
    },
    {
      "cell_type": "markdown",
      "source": [
        "## 9.確率"
      ],
      "metadata": {
        "id": "kOqi_9TvA-yU"
      }
    },
    {
      "cell_type": "markdown",
      "source": [
        "① 次のルールのゲームで得られる得点の期待値を求めましょう。\n",
        "- 勝ち：+3pt\n",
        "- 負け：-1pt\n",
        "- あいこ：+1pt\n",
        "\n",
        "ただし、勝ち・負け・あいこの確率はいずれも同様とする。"
      ],
      "metadata": {
        "id": "AyeCP3yABAYE"
      }
    },
    {
      "cell_type": "code",
      "source": [
        "e = __________________\n",
        "print(\"期待値：\", e)"
      ],
      "metadata": {
        "id": "-dFd7kwEA-j5"
      },
      "execution_count": null,
      "outputs": []
    },
    {
      "cell_type": "markdown",
      "source": [
        "② $-1\\leq x \\leq 1 , -1\\leq y \\leq 1$の範囲の正方形領域にランダムにプロットをしていく。このうち、第一象限($0\\leq x \\leq 1 , 0\\leq y \\leq 1$)にプロットされる確率を求めましょう。"
      ],
      "metadata": {
        "id": "kV8wqEN4WXZm"
      }
    },
    {
      "cell_type": "code",
      "source": [
        "# 正方領域の面積\n",
        "squared = ____________\n",
        "\n",
        "# そのうち、第一象限の面積\n",
        "quadrant = ____________\n",
        "\n",
        "print(\"確率：\", quadrant / squared)"
      ],
      "metadata": {
        "id": "nJyAxEk0WLPL"
      },
      "execution_count": null,
      "outputs": []
    },
    {
      "cell_type": "markdown",
      "source": [
        "③ ②の場合のシミュレーションを行い、②で求めた確率に近い値が出るか確認しましょう。"
      ],
      "metadata": {
        "id": "-NtgiXFIZKDp"
      }
    },
    {
      "cell_type": "code",
      "source": [
        "import matplotlib.pyplot as plt\n",
        "import numpy as np\n",
        "\n",
        "point_num = 1000 # ポイント数\n",
        "\n",
        "# 乱数生成\n",
        "x = np.random.uniform(__, __, ________)\n",
        "y = np.random.uniform(__, __, ________)\n",
        "\n",
        "# 第一象限の点の数をカウント\n",
        "inside_quadrant = np.sum((x >= __) & (y >= __))\n",
        "\n",
        "# 結果表示\n",
        "print(f\"第一象限の点の数: {inside_quadrant}\")\n",
        "print(f\"第一象限にプロットされる確率: {round(inside_quadrant / point_num, 2)}\")\n",
        "\n",
        "# プロット\n",
        "plt.scatter(x, y, alpha=0.5, label='Points')\n",
        "plt.axhline(0, color='black',linewidth=0.5)\n",
        "plt.axvline(0, color='black',linewidth=0.5)\n",
        "plt.plot([0, 1], [0, 0], color='red', linewidth=2)\n",
        "plt.plot([0, 1], [1, 1], color='red', linewidth=2)\n",
        "plt.plot([0, 0], [0, 1], color='red', linewidth=2)\n",
        "plt.plot([1, 1], [0, 1], color='red', linewidth=2)\n",
        "plt.title('Scatter plot of random points between -1 and 1')\n",
        "plt.xlabel('x')\n",
        "plt.ylabel('y')\n",
        "plt.xlim(-1, 1)\n",
        "plt.ylim(-1, 1)\n",
        "plt.legend()\n",
        "plt.grid(True)\n",
        "plt.show()"
      ],
      "metadata": {
        "id": "6mDGkkJCZVGl"
      },
      "execution_count": null,
      "outputs": []
    },
    {
      "cell_type": "markdown",
      "source": [
        "## 10.極限"
      ],
      "metadata": {
        "id": "CrCLZcHQbkhb"
      }
    },
    {
      "cell_type": "markdown",
      "source": [
        "① 関数$f(x) = x^2 - 2x$ のグラフを表示してください。ただし、$-3 \\leq x \\leq 3$の範囲とします。"
      ],
      "metadata": {
        "id": "QztKNXKsbmwj"
      }
    },
    {
      "cell_type": "code",
      "source": [
        "import numpy as np\n",
        "import matplotlib.pyplot as plt\n",
        "\n",
        "# 関数 f(x) = x^2 - 2x の定義\n",
        "def f(x):\n",
        "    return _______________\n",
        "\n",
        "# x の範囲を設定\n",
        "x = np.linspace(-3, 3, 400)\n",
        "\n",
        "# 関数値を計算\n",
        "y = f(x)\n",
        "\n",
        "# グラフをプロット\n",
        "plt.plot(x, y, label='$f(x) = x^2 - 2x$')\n",
        "plt.xlabel('x')\n",
        "plt.ylabel('f(x)')\n",
        "plt.legend()\n",
        "plt.grid(True)\n",
        "plt.show()\n"
      ],
      "metadata": {
        "id": "afjvut6TcdZ2"
      },
      "execution_count": null,
      "outputs": []
    },
    {
      "cell_type": "markdown",
      "source": [
        "② 関数$f(x) = x^2 - 2x$ の極限$(x→0)$を求めましょう。"
      ],
      "metadata": {
        "id": "p0kltgLqdLRw"
      }
    },
    {
      "cell_type": "code",
      "source": [
        "from sympy import Limit, Symbol, S\n",
        "x = Symbol('x')\n",
        "\n",
        "Limit(___, ___, ___).doit()"
      ],
      "metadata": {
        "id": "nQ1s_Pzydd04"
      },
      "execution_count": null,
      "outputs": []
    },
    {
      "cell_type": "markdown",
      "source": [
        "③ $x$を変化させて$f(x)$が最小となる$x$を求めましょう。ただし、次の条件で実行してください。\n",
        "- $x$の初期値：0\n",
        "- $x$の変化量$Δx$：\n",
        "- 繰り返しを終了する$Δx$の最小の変化量$ε$：0.00001"
      ],
      "metadata": {
        "id": "VbQyp2v8eIKo"
      }
    },
    {
      "cell_type": "code",
      "source": [
        "x = ________\n",
        "delta_x = ________\n",
        "epsilon = ________\n",
        "\n",
        "while(1): # breakされるまで無限ループ\n",
        "    # ② 好きな数をdelta_xだけ変化させてf(x)が減少するか見る。\n",
        "    if f(x) - f(x + delta_x) > 0: # f(x)の方が大きければ、f(x)→f(x+delta_x)で減少したと解釈できる\n",
        "        if f(x) - f(x + delta_x) < epsilon:\n",
        "            break # 変化がεより小さければ、繰り返しから脱出\n",
        "        else:\n",
        "            x = x + delta_x # xの値をdelta_xだけ更新\n",
        "\n",
        "    # ③ 減少しなければ、-delta_xだけ変化させる\n",
        "    else:\n",
        "        if f(x) - f(x - delta_x) < epsilon:\n",
        "            break # 変化がεより小さければ、繰り返しから脱出\n",
        "        else:\n",
        "            x = x - delta_x # xの値をdelta_xだけ更新\n",
        "\n",
        "print(\"f(x)が最小となるxは\", round(x, 2), \"です。このときのf(x)は\", f(x),\"です\")"
      ],
      "metadata": {
        "id": "8E05I2zfeUXB"
      },
      "execution_count": null,
      "outputs": []
    },
    {
      "cell_type": "markdown",
      "source": [
        "---\n",
        "# 解答"
      ],
      "metadata": {
        "id": "LLqvgXmcrZy8"
      }
    },
    {
      "cell_type": "markdown",
      "source": [
        "## 1.計算"
      ],
      "metadata": {
        "id": "RMRSdchwwRFk"
      }
    },
    {
      "cell_type": "code",
      "source": [
        "ans1 = 0\n",
        "for i in range(1, 100):\n",
        "    ans1 += i\n",
        "print(ans1)\n",
        "\n",
        "ans2 = 65536**(1/2) / 1024**(1/2)\n",
        "print(ans2)\n",
        "\n",
        "ans3 = 20240728 % 29\n",
        "print(ans3)\n",
        "\n",
        "from fractions import Fraction\n",
        "ans4 = 0\n",
        "for i in range(1, 501):\n",
        "    if i % 2 == 1: # 奇数項は+\n",
        "        ans4 += Fraction(1, 2*i-1)\n",
        "    else:\n",
        "        ans4 -= Fraction(1, 2*i-1)\n",
        "print(round(float(4 * ans4), 2))\n",
        "\n",
        "z = complex(1, 3**(1/2))\n",
        "ans5 = abs(z)\n",
        "print(ans5)"
      ],
      "metadata": {
        "colab": {
          "base_uri": "https://localhost:8080/"
        },
        "id": "13RHxtC-wTfC",
        "outputId": "c7fb83f2-8f2e-4328-d616-ef212c40ded9"
      },
      "execution_count": null,
      "outputs": [
        {
          "output_type": "stream",
          "name": "stdout",
          "text": [
            "4950\n",
            "8.0\n",
            "4\n",
            "3.14\n",
            "2.0\n"
          ]
        }
      ]
    },
    {
      "cell_type": "markdown",
      "source": [
        "## 2.関数"
      ],
      "metadata": {
        "id": "QTW9QDAvZirv"
      }
    },
    {
      "cell_type": "code",
      "source": [
        "def wbgt(w, b, d): # w:湿球、b:黒球、d:乾球\n",
        "    return 0.7*w+0.2*b+0.1*d\n",
        "\n",
        "tw = 26 # 湿球温度\n",
        "tb = 27 # 黒球温度\n",
        "td = 28 # 乾球温度\n",
        "\n",
        "print('湿球{0}度、黒球{1}度、乾球{2}度のとき、WBGTは{3}です'.format(tw, tb, td, wbgt(tw, tb, td)))"
      ],
      "metadata": {
        "colab": {
          "base_uri": "https://localhost:8080/"
        },
        "id": "0gx5MEB8rQM4",
        "outputId": "4bb6d577-c207-4982-88fe-5706dcd8dcf1"
      },
      "execution_count": null,
      "outputs": [
        {
          "output_type": "stream",
          "name": "stdout",
          "text": [
            "湿球26度、黒球27度、乾球28度のとき、WBGTは26.400000000000002です\n"
          ]
        }
      ]
    },
    {
      "cell_type": "code",
      "source": [
        "tw = 29 # 湿球温度\n",
        "tb = 37 # 黒球温度\n",
        "td = 31 # 乾球温度\n",
        "\n",
        "print('湿球{0}度、黒球{1}度、乾球{2}度のとき、WBGTは{3}です'.format(tw, tb, td, round(wbgt(tw, tb, td), 1)))"
      ],
      "metadata": {
        "colab": {
          "base_uri": "https://localhost:8080/"
        },
        "id": "NYci51y6sc4A",
        "outputId": "3a691ed5-3014-4b07-e1bb-0992563e0db0"
      },
      "execution_count": null,
      "outputs": [
        {
          "output_type": "stream",
          "name": "stdout",
          "text": [
            "湿球29度、黒球37度、乾球31度のとき、WBGTは30.8です\n"
          ]
        }
      ]
    },
    {
      "cell_type": "code",
      "source": [
        "if wbgt(tw, tb, td) > 28:\n",
        "    print(\"熱中症に注意\") # WBGTが28を超えるとき、警告する\n",
        "else:\n",
        "    print(\"安全です\")"
      ],
      "metadata": {
        "colab": {
          "base_uri": "https://localhost:8080/"
        },
        "id": "7rJXaiuusihV",
        "outputId": "8b6aea9c-af80-4c6d-d30a-aa6c097c288e"
      },
      "execution_count": null,
      "outputs": [
        {
          "output_type": "stream",
          "name": "stdout",
          "text": [
            "熱中症に注意\n"
          ]
        }
      ]
    },
    {
      "cell_type": "markdown",
      "source": [
        "## 3.入力を受け取る"
      ],
      "metadata": {
        "id": "mzoJF4M9ZlJE"
      }
    },
    {
      "cell_type": "code",
      "source": [
        "a = float(input())\n",
        "b = float(input())\n",
        "print(a + b)\n",
        "\n",
        "num = 0\n",
        "while(1):\n",
        "    num += float(input())\n",
        "    print(\"合計値：\", num)"
      ],
      "metadata": {
        "id": "JVShG3xquNvX",
        "colab": {
          "base_uri": "https://localhost:8080/",
          "height": 379
        },
        "outputId": "6c3bd5ec-fe93-451e-93a0-c17c14f49835"
      },
      "execution_count": null,
      "outputs": [
        {
          "name": "stdout",
          "output_type": "stream",
          "text": [
            "3\n",
            "4\n",
            "7.0\n",
            "1\n",
            "合計値： 1.0\n",
            "2\n",
            "合計値： 3.0\n",
            "3\n",
            "合計値： 6.0\n",
            "a\n"
          ]
        },
        {
          "output_type": "error",
          "ename": "ValueError",
          "evalue": "could not convert string to float: 'a'",
          "traceback": [
            "\u001b[0;31m---------------------------------------------------------------------------\u001b[0m",
            "\u001b[0;31mValueError\u001b[0m                                Traceback (most recent call last)",
            "\u001b[0;32m<ipython-input-5-104c5ba04886>\u001b[0m in \u001b[0;36m<cell line: 6>\u001b[0;34m()\u001b[0m\n\u001b[1;32m      5\u001b[0m \u001b[0mnum\u001b[0m \u001b[0;34m=\u001b[0m \u001b[0;36m0\u001b[0m\u001b[0;34m\u001b[0m\u001b[0;34m\u001b[0m\u001b[0m\n\u001b[1;32m      6\u001b[0m \u001b[0;32mwhile\u001b[0m\u001b[0;34m(\u001b[0m\u001b[0;36m1\u001b[0m\u001b[0;34m)\u001b[0m\u001b[0;34m:\u001b[0m\u001b[0;34m\u001b[0m\u001b[0;34m\u001b[0m\u001b[0m\n\u001b[0;32m----> 7\u001b[0;31m     \u001b[0mnum\u001b[0m \u001b[0;34m+=\u001b[0m \u001b[0mfloat\u001b[0m\u001b[0;34m(\u001b[0m\u001b[0minput\u001b[0m\u001b[0;34m(\u001b[0m\u001b[0;34m)\u001b[0m\u001b[0;34m)\u001b[0m\u001b[0;34m\u001b[0m\u001b[0;34m\u001b[0m\u001b[0m\n\u001b[0m\u001b[1;32m      8\u001b[0m     \u001b[0mprint\u001b[0m\u001b[0;34m(\u001b[0m\u001b[0;34m\"合計値：\"\u001b[0m\u001b[0;34m,\u001b[0m \u001b[0mnum\u001b[0m\u001b[0;34m)\u001b[0m\u001b[0;34m\u001b[0m\u001b[0;34m\u001b[0m\u001b[0m\n",
            "\u001b[0;31mValueError\u001b[0m: could not convert string to float: 'a'"
          ]
        }
      ]
    },
    {
      "cell_type": "code",
      "source": [
        "triangle = list(map(int, input().split()))\n",
        "triangle.sort() # 昇順にソート\n",
        "print(triangle)\n",
        "\n",
        "if triangle[0]**2 + triangle[1]**2 == triangle[2]**2:\n",
        "    print(\"直角三角形です\")\n",
        "else:\n",
        "    print(\"直角三角形ではない\")"
      ],
      "metadata": {
        "colab": {
          "base_uri": "https://localhost:8080/"
        },
        "id": "1OWdcVwKZox_",
        "outputId": "3f6e4f66-9eb6-4d4a-a436-a05db03ac583"
      },
      "execution_count": null,
      "outputs": [
        {
          "output_type": "stream",
          "name": "stdout",
          "text": [
            "3 4 5\n",
            "[3, 4, 5]\n",
            "直角三角形です\n"
          ]
        }
      ]
    },
    {
      "cell_type": "markdown",
      "source": [
        "##4.グラフの表示"
      ],
      "metadata": {
        "id": "mod-w38ZbJ8e"
      }
    },
    {
      "cell_type": "code",
      "source": [
        "import numpy as np\n",
        "import pandas as pd\n",
        "import matplotlib.pyplot as plt\n",
        "\n",
        "# データの読み込み\n",
        "file_path = 'https://github.com/sousci/assort/raw/main/%E5%B9%B3%E5%9D%87%E6%B0%97%E6%B8%A9%E3%81%A8%E3%82%A2%E3%82%A4%E3%82%B9%E6%94%AF%E5%87%BA%E9%A1%8D.csv'\n",
        "train_data = pd.read_csv(file_path, encoding='shift_jis')\n",
        "\n",
        "# データの確認\n",
        "print(train_data)\n",
        "\n",
        "# 1列目と2列目のデータを取得\n",
        "x_numbers = train_data.iloc[:, 0]\n",
        "y_numbers = train_data.iloc[:, 1]\n",
        "\n",
        "# 散布図の作成\n",
        "plt.scatter(x_numbers, y_numbers)\n",
        "plt.xlabel(train_data.columns[0])\n",
        "plt.ylabel(train_data.columns[1])\n",
        "plt.show()\n"
      ],
      "metadata": {
        "id": "FOfeOJ7qauAU",
        "colab": {
          "base_uri": "https://localhost:8080/",
          "height": 1000
        },
        "outputId": "f390ce16-e41a-484c-caf5-f82ddc444125"
      },
      "execution_count": null,
      "outputs": [
        {
          "output_type": "stream",
          "name": "stdout",
          "text": [
            "    月平均気温(度)  アイスクリーム支出金額(円)\n",
            "0        7.0             362\n",
            "1        6.5             305\n",
            "2        9.1             383\n",
            "3       12.4             464\n",
            "4       19.0             752\n",
            "5       23.6             841\n",
            "6       28.0            1211\n",
            "7       29.6            1451\n",
            "8       25.1             864\n",
            "9       18.9             504\n",
            "10      13.5             351\n",
            "11       9.9             423\n",
            "12       5.1             346\n",
            "13       7.0             289\n",
            "14       8.1             329\n",
            "15      14.5             462\n",
            "16      18.5             672\n",
            "17      22.8             791\n",
            "18      27.3            1265\n",
            "19      27.5            1241\n",
            "20      25.1             767\n",
            "21      19.5             516\n",
            "22      14.9             393\n",
            "23       7.5             423\n",
            "24       4.8             339\n",
            "25       5.4             274\n",
            "26       8.8             385\n",
            "27      14.5             524\n",
            "28      19.6             671\n",
            "29      21.4             798\n",
            "30      26.4            1165\n",
            "31      29.1            1332\n",
            "32      26.2             849\n",
            "33      19.4             515\n",
            "34      12.7             326\n",
            "35       7.3             414\n",
            "36       5.5             363\n",
            "37       6.2             322\n",
            "38      12.1             438\n",
            "39      15.2             525\n",
            "40      19.8             761\n",
            "41      22.9             878\n",
            "42      27.3            1234\n",
            "43      29.2            1437\n",
            "44      25.2             794\n",
            "45      19.8             549\n",
            "46      13.5             370\n",
            "47       8.3             445\n",
            "48       6.3             396\n",
            "49       5.9             309\n",
            "50      10.4             447\n",
            "51      15.0             520\n",
            "52      20.3             803\n",
            "53      23.4             900\n",
            "54      26.8            1202\n",
            "55      27.7            1238\n",
            "56      23.2             748\n",
            "57      19.1             570\n",
            "58      14.2             419\n",
            "59       6.7             455\n"
          ]
        },
        {
          "output_type": "stream",
          "name": "stderr",
          "text": [
            "/usr/local/lib/python3.10/dist-packages/IPython/core/pylabtools.py:151: UserWarning: Glyph 26376 (\\N{CJK UNIFIED IDEOGRAPH-6708}) missing from current font.\n",
            "  fig.canvas.print_figure(bytes_io, **kw)\n",
            "/usr/local/lib/python3.10/dist-packages/IPython/core/pylabtools.py:151: UserWarning: Glyph 24179 (\\N{CJK UNIFIED IDEOGRAPH-5E73}) missing from current font.\n",
            "  fig.canvas.print_figure(bytes_io, **kw)\n",
            "/usr/local/lib/python3.10/dist-packages/IPython/core/pylabtools.py:151: UserWarning: Glyph 22343 (\\N{CJK UNIFIED IDEOGRAPH-5747}) missing from current font.\n",
            "  fig.canvas.print_figure(bytes_io, **kw)\n",
            "/usr/local/lib/python3.10/dist-packages/IPython/core/pylabtools.py:151: UserWarning: Glyph 27671 (\\N{CJK UNIFIED IDEOGRAPH-6C17}) missing from current font.\n",
            "  fig.canvas.print_figure(bytes_io, **kw)\n",
            "/usr/local/lib/python3.10/dist-packages/IPython/core/pylabtools.py:151: UserWarning: Glyph 28201 (\\N{CJK UNIFIED IDEOGRAPH-6E29}) missing from current font.\n",
            "  fig.canvas.print_figure(bytes_io, **kw)\n",
            "/usr/local/lib/python3.10/dist-packages/IPython/core/pylabtools.py:151: UserWarning: Glyph 24230 (\\N{CJK UNIFIED IDEOGRAPH-5EA6}) missing from current font.\n",
            "  fig.canvas.print_figure(bytes_io, **kw)\n",
            "/usr/local/lib/python3.10/dist-packages/IPython/core/pylabtools.py:151: UserWarning: Glyph 12450 (\\N{KATAKANA LETTER A}) missing from current font.\n",
            "  fig.canvas.print_figure(bytes_io, **kw)\n",
            "/usr/local/lib/python3.10/dist-packages/IPython/core/pylabtools.py:151: UserWarning: Glyph 12452 (\\N{KATAKANA LETTER I}) missing from current font.\n",
            "  fig.canvas.print_figure(bytes_io, **kw)\n",
            "/usr/local/lib/python3.10/dist-packages/IPython/core/pylabtools.py:151: UserWarning: Glyph 12473 (\\N{KATAKANA LETTER SU}) missing from current font.\n",
            "  fig.canvas.print_figure(bytes_io, **kw)\n",
            "/usr/local/lib/python3.10/dist-packages/IPython/core/pylabtools.py:151: UserWarning: Glyph 12463 (\\N{KATAKANA LETTER KU}) missing from current font.\n",
            "  fig.canvas.print_figure(bytes_io, **kw)\n",
            "/usr/local/lib/python3.10/dist-packages/IPython/core/pylabtools.py:151: UserWarning: Glyph 12522 (\\N{KATAKANA LETTER RI}) missing from current font.\n",
            "  fig.canvas.print_figure(bytes_io, **kw)\n",
            "/usr/local/lib/python3.10/dist-packages/IPython/core/pylabtools.py:151: UserWarning: Glyph 12540 (\\N{KATAKANA-HIRAGANA PROLONGED SOUND MARK}) missing from current font.\n",
            "  fig.canvas.print_figure(bytes_io, **kw)\n",
            "/usr/local/lib/python3.10/dist-packages/IPython/core/pylabtools.py:151: UserWarning: Glyph 12512 (\\N{KATAKANA LETTER MU}) missing from current font.\n",
            "  fig.canvas.print_figure(bytes_io, **kw)\n",
            "/usr/local/lib/python3.10/dist-packages/IPython/core/pylabtools.py:151: UserWarning: Glyph 25903 (\\N{CJK UNIFIED IDEOGRAPH-652F}) missing from current font.\n",
            "  fig.canvas.print_figure(bytes_io, **kw)\n",
            "/usr/local/lib/python3.10/dist-packages/IPython/core/pylabtools.py:151: UserWarning: Glyph 20986 (\\N{CJK UNIFIED IDEOGRAPH-51FA}) missing from current font.\n",
            "  fig.canvas.print_figure(bytes_io, **kw)\n",
            "/usr/local/lib/python3.10/dist-packages/IPython/core/pylabtools.py:151: UserWarning: Glyph 37329 (\\N{CJK UNIFIED IDEOGRAPH-91D1}) missing from current font.\n",
            "  fig.canvas.print_figure(bytes_io, **kw)\n",
            "/usr/local/lib/python3.10/dist-packages/IPython/core/pylabtools.py:151: UserWarning: Glyph 38989 (\\N{CJK UNIFIED IDEOGRAPH-984D}) missing from current font.\n",
            "  fig.canvas.print_figure(bytes_io, **kw)\n",
            "/usr/local/lib/python3.10/dist-packages/IPython/core/pylabtools.py:151: UserWarning: Glyph 20870 (\\N{CJK UNIFIED IDEOGRAPH-5186}) missing from current font.\n",
            "  fig.canvas.print_figure(bytes_io, **kw)\n"
          ]
        },
        {
          "output_type": "display_data",
          "data": {
            "text/plain": [
              "<Figure size 640x480 with 1 Axes>"
            ],
            "image/png": "[encoded data removed]"
          },
          "metadata": {}
        }
      ]
    },
    {
      "cell_type": "markdown",
      "source": [
        "## 5.平均・分散・標準偏差"
      ],
      "metadata": {
        "id": "gGnL2us9fxco"
      }
    },
    {
      "cell_type": "code",
      "source": [
        "import numpy as np\n",
        "\n",
        "score = [42, 58, 59, 71, 80]\n",
        "print(np.average(score))\n",
        "\n",
        "score = [42, 58, 59, 71, 80]\n",
        "print(np.var(score))\n",
        "\n",
        "score = [42, 58, 59, 71, 80]\n",
        "print(np.std(score))"
      ],
      "metadata": {
        "colab": {
          "base_uri": "https://localhost:8080/"
        },
        "id": "E2L8WTQ9bMZe",
        "outputId": "52c1d5e5-9e4f-4973-d077-a4a29f5fd338"
      },
      "execution_count": null,
      "outputs": [
        {
          "output_type": "stream",
          "name": "stdout",
          "text": [
            "62.0\n",
            "166.0\n",
            "12.884098726725126\n"
          ]
        }
      ]
    },
    {
      "cell_type": "markdown",
      "source": [
        "## 6.相関"
      ],
      "metadata": {
        "id": "Kn-3CjHTkrgt"
      }
    },
    {
      "cell_type": "code",
      "source": [
        "import numpy as np\n",
        "import pandas as pd\n",
        "import matplotlib.pyplot as plt\n",
        "\n",
        "# データの読み込み\n",
        "file_path = 'https://github.com/sousci/assort/raw/main/%E5%B9%B3%E5%9D%87%E6%B0%97%E6%B8%A9%E3%81%A8%E3%82%A2%E3%82%A4%E3%82%B9%E6%94%AF%E5%87%BA%E9%A1%8D.csv'\n",
        "train_data = pd.read_csv(file_path, encoding='shift_jis')\n",
        "\n",
        "# 1列目と2列目のデータを取得\n",
        "x_numbers = train_data.iloc[:, 0]\n",
        "y_numbers = train_data.iloc[:, 1]\n",
        "\n",
        "# NumPyのcorrcoef（相関係数）メソッドを使って相関係数を計算\n",
        "correlation_matrix = np.corrcoef(x_numbers, y_numbers)\n",
        "\n",
        "# 相関係数を出力\n",
        "print(\"相関係数:\", correlation_matrix[0, 1])"
      ],
      "metadata": {
        "colab": {
          "base_uri": "https://localhost:8080/"
        },
        "id": "4pq5466Df-0h",
        "outputId": "c8761656-0fa0-4d71-d805-09134626f73a"
      },
      "execution_count": null,
      "outputs": [
        {
          "output_type": "stream",
          "name": "stdout",
          "text": [
            "相関係数: 0.9051543036949489\n"
          ]
        }
      ]
    },
    {
      "cell_type": "markdown",
      "source": [
        "## 7.SymPy\n"
      ],
      "metadata": {
        "id": "4J1kUyOTmuQk"
      }
    },
    {
      "cell_type": "code",
      "source": [
        "from sympy import Symbol\n",
        "x = Symbol('x')\n",
        "y = Symbol('y')\n",
        "\n",
        "from sympy import factor\n",
        "expr1 = x**3 + 6*x**2*y + 12*x*y**2 + 8*y**3\n",
        "factor(expr1)"
      ],
      "metadata": {
        "colab": {
          "base_uri": "https://localhost:8080/",
          "height": 39
        },
        "id": "5IY_R7FvlQRF",
        "outputId": "59d6c5f0-b6b1-4b50-8749-f67b663f6055"
      },
      "execution_count": null,
      "outputs": [
        {
          "output_type": "execute_result",
          "data": {
            "text/plain": [
              "(x + 2*y)**3"
            ],
            "text/latex": "$\\displaystyle \\left(x + 2 y\\right)^{3}$"
          },
          "metadata": {},
          "execution_count": 10
        }
      ]
    },
    {
      "cell_type": "code",
      "source": [
        "from sympy import Symbol\n",
        "x = Symbol('x')\n",
        "\n",
        "from sympy import expand\n",
        "expr2 = (3*x-1/2)**3\n",
        "expand(expr2)"
      ],
      "metadata": {
        "colab": {
          "base_uri": "https://localhost:8080/",
          "height": 39
        },
        "id": "-Hgfiq5nm65v",
        "outputId": "7f37b9ab-6535-4496-f989-463dfb4c5d2f"
      },
      "execution_count": null,
      "outputs": [
        {
          "output_type": "execute_result",
          "data": {
            "text/plain": [
              "27*x**3 - 13.5*x**2 + 2.25*x - 0.125"
            ],
            "text/latex": "$\\displaystyle 27 x^{3} - 13.5 x^{2} + 2.25 x - 0.125$"
          },
          "metadata": {},
          "execution_count": 11
        }
      ]
    },
    {
      "cell_type": "code",
      "source": [
        "from sympy import Symbol\n",
        "x = Symbol('x')\n",
        "\n",
        "from sympy import solve\n",
        "expr3 = 4*x/(x+1)-x/(x-2)-3\n",
        "solve(expr3)"
      ],
      "metadata": {
        "id": "OwHEj-OWnXl4",
        "colab": {
          "base_uri": "https://localhost:8080/"
        },
        "outputId": "598b4dcd-5963-434e-90bf-89bc8eada258"
      },
      "execution_count": null,
      "outputs": [
        {
          "output_type": "execute_result",
          "data": {
            "text/plain": [
              "[1]"
            ]
          },
          "metadata": {},
          "execution_count": 12
        }
      ]
    },
    {
      "cell_type": "code",
      "source": [
        "from sympy import symbols\n",
        "a, b, c = symbols('a, b, c')\n",
        "\n",
        "from sympy import solve\n",
        "expr4_1 = a + b + c - 12\n",
        "expr4_2 = 2*a + 4*b - 22\n",
        "expr4_3 = a + 2*b + 3*c -26\n",
        "\n",
        "solve((expr4_1, expr4_2, expr4_3))"
      ],
      "metadata": {
        "id": "8JBywhvfFe8_",
        "colab": {
          "base_uri": "https://localhost:8080/"
        },
        "outputId": "cf935be4-567a-4da3-f76b-902da6ad024d"
      },
      "execution_count": null,
      "outputs": [
        {
          "output_type": "execute_result",
          "data": {
            "text/plain": [
              "{a: 3, b: 4, c: 5}"
            ]
          },
          "metadata": {},
          "execution_count": 13
        }
      ]
    },
    {
      "cell_type": "markdown",
      "source": [
        "## 8.集合"
      ],
      "metadata": {
        "id": "fkXajHlk62pM"
      }
    },
    {
      "cell_type": "code",
      "source": [
        "from sympy import FiniteSet\n",
        "a = FiniteSet(2, 3, 5, 7)\n",
        "b = FiniteSet(3, 5, 7, 9)\n",
        "\n",
        "a.intersect(b)"
      ],
      "metadata": {
        "colab": {
          "base_uri": "https://localhost:8080/",
          "height": 37
        },
        "id": "MacZ6qjB3pdc",
        "outputId": "8587ed0d-c0a0-4792-8218-5118454f9f73"
      },
      "execution_count": null,
      "outputs": [
        {
          "output_type": "execute_result",
          "data": {
            "text/plain": [
              "{3, 5, 7}"
            ],
            "text/latex": "$\\displaystyle \\left\\{3, 5, 7\\right\\}$"
          },
          "metadata": {},
          "execution_count": 14
        }
      ]
    },
    {
      "cell_type": "code",
      "source": [
        "from sympy import FiniteSet\n",
        "a = FiniteSet(2, 3, 5, 7)\n",
        "b = FiniteSet(3, 5, 7, 9)\n",
        "\n",
        "a.union(b)"
      ],
      "metadata": {
        "colab": {
          "base_uri": "https://localhost:8080/",
          "height": 37
        },
        "id": "dCf0B3Rp65SC",
        "outputId": "dda73a53-a287-42fa-8e91-c8d8fbec8bb4"
      },
      "execution_count": null,
      "outputs": [
        {
          "output_type": "execute_result",
          "data": {
            "text/plain": [
              "{2, 3, 5, 7, 9}"
            ],
            "text/latex": "$\\displaystyle \\left\\{2, 3, 5, 7, 9\\right\\}$"
          },
          "metadata": {},
          "execution_count": 15
        }
      ]
    },
    {
      "cell_type": "code",
      "source": [
        "from sympy import FiniteSet\n",
        "a = FiniteSet(2, 3, 5, 7)\n",
        "b = FiniteSet(3, 5, 7, 9)\n",
        "\n",
        "a.intersect(b).powerset()"
      ],
      "metadata": {
        "id": "H_4Aqh9z7Zmk",
        "colab": {
          "base_uri": "https://localhost:8080/",
          "height": 37
        },
        "outputId": "05345f35-3caf-4fa3-e0bd-31c144430de8"
      },
      "execution_count": null,
      "outputs": [
        {
          "output_type": "execute_result",
          "data": {
            "text/plain": [
              "FiniteSet(EmptySet, {3}, {5}, {7}, {3, 5}, {3, 7}, {5, 7}, {3, 5, 7})"
            ],
            "text/latex": "$\\displaystyle \\left\\{\\emptyset, \\left\\{3\\right\\}, \\left\\{5\\right\\}, \\left\\{7\\right\\}, \\left\\{3, 5\\right\\}, \\left\\{3, 7\\right\\}, \\left\\{5, 7\\right\\}, \\left\\{3, 5, 7\\right\\}\\right\\}$"
          },
          "metadata": {},
          "execution_count": 16
        }
      ]
    },
    {
      "cell_type": "markdown",
      "source": [
        "## 9.確率"
      ],
      "metadata": {
        "id": "KNejOSq7Yzw_"
      }
    },
    {
      "cell_type": "code",
      "source": [
        "e = 3*(1/3) + 1*(1/3) - 1*(1/3)\n",
        "print(\"期待値：\", e)"
      ],
      "metadata": {
        "id": "QMU7BsLM_8fM",
        "colab": {
          "base_uri": "https://localhost:8080/"
        },
        "outputId": "d0d3931e-9f8d-46fa-859f-8ba06d07f31c"
      },
      "execution_count": null,
      "outputs": [
        {
          "output_type": "stream",
          "name": "stdout",
          "text": [
            "期待値： 1.0\n"
          ]
        }
      ]
    },
    {
      "cell_type": "code",
      "source": [
        "# 正方領域の面積\n",
        "squared = 2 * 2\n",
        "\n",
        "# そのうち、第一象限の面積\n",
        "quadrant = 1 * 1\n",
        "\n",
        "print(\"確率：\", quadrant / squared)"
      ],
      "metadata": {
        "colab": {
          "base_uri": "https://localhost:8080/"
        },
        "id": "K_TpEgKvY2kK",
        "outputId": "24aa3d91-4895-48c0-ac61-9d7a6916bcd5"
      },
      "execution_count": null,
      "outputs": [
        {
          "output_type": "stream",
          "name": "stdout",
          "text": [
            "確率： 0.25\n"
          ]
        }
      ]
    },
    {
      "cell_type": "code",
      "source": [
        "import matplotlib.pyplot as plt\n",
        "import numpy as np\n",
        "\n",
        "point_num = 1000\n",
        "\n",
        "# 乱数生成\n",
        "x = np.random.uniform(-1, 1, point_num)\n",
        "y = np.random.uniform(-1, 1, point_num)\n",
        "\n",
        "# 第一象限の点の数をカウント\n",
        "inside_quadrant = np.sum((x >= 0) & (y >= 0))\n",
        "\n",
        "# 結果表示\n",
        "print(f\"第一象限の点の数: {inside_quadrant}\")\n",
        "print(f\"第一象限にプロットされる確率: {round(inside_quadrant / point_num, 2)}\")\n",
        "\n",
        "# プロット\n",
        "plt.scatter(x, y, alpha=0.5, label='Points')\n",
        "plt.axhline(0, color='black',linewidth=0.5)\n",
        "plt.axvline(0, color='black',linewidth=0.5)\n",
        "plt.plot([0, 1], [0, 0], color='red', linewidth=2)\n",
        "plt.plot([0, 1], [1, 1], color='red', linewidth=2)\n",
        "plt.plot([0, 0], [0, 1], color='red', linewidth=2)\n",
        "plt.plot([1, 1], [0, 1], color='red', linewidth=2)\n",
        "plt.title('Scatter plot of random points between -1 and 1')\n",
        "plt.xlabel('x')\n",
        "plt.ylabel('y')\n",
        "plt.xlim(-1, 1)\n",
        "plt.ylim(-1, 1)\n",
        "plt.legend()\n",
        "plt.grid(True)\n",
        "plt.show()"
      ],
      "metadata": {
        "colab": {
          "base_uri": "https://localhost:8080/",
          "height": 508
        },
        "id": "SMksDeWXY4gl",
        "outputId": "ba6c5485-2c2d-4210-cf67-7907c6be304c"
      },
      "execution_count": null,
      "outputs": [
        {
          "output_type": "stream",
          "name": "stdout",
          "text": [
            "第一象限の点の数: 236\n",
            "第一象限にプロットされる確率: 0.24\n"
          ]
        },
        {
          "output_type": "display_data",
          "data": {
            "text/plain": [
              "<Figure size 640x480 with 1 Axes>"
            ],
            "image/png": "[encoded data removed]"
          },
          "metadata": {}
        }
      ]
    },
    {
      "cell_type": "markdown",
      "source": [
        "## 10.極限"
      ],
      "metadata": {
        "id": "Kcwd2AVMc820"
      }
    },
    {
      "cell_type": "code",
      "source": [
        "import numpy as np\n",
        "import matplotlib.pyplot as plt\n",
        "\n",
        "# 関数 f(x) = x^3 - 2x の定義\n",
        "def f(x):\n",
        "    return x**2 - 2*x\n",
        "\n",
        "# x の範囲を設定\n",
        "x = np.linspace(-3, 3, 400)\n",
        "\n",
        "# 関数値を計算\n",
        "y = f(x)\n",
        "\n",
        "# グラフをプロット\n",
        "plt.plot(x, y, label='$f(x) = x^2 - 2x$')\n",
        "plt.xlabel('x')\n",
        "plt.ylabel('f(x)')\n",
        "plt.legend()\n",
        "plt.grid(True)\n",
        "plt.show()\n"
      ],
      "metadata": {
        "colab": {
          "base_uri": "https://localhost:8080/",
          "height": 449
        },
        "id": "-GMlIWLNZmV-",
        "outputId": "fd3d4e6e-f8b3-4901-a90f-d0d8f96cc4b1"
      },
      "execution_count": null,
      "outputs": [
        {
          "output_type": "display_data",
          "data": {
            "text/plain": [
              "<Figure size 640x480 with 1 Axes>"
            ],
            "image/png": "[encoded data removed]"
          },
          "metadata": {}
        }
      ]
    },
    {
      "cell_type": "code",
      "source": [
        "from sympy import Limit, Symbol, S\n",
        "x = Symbol('x')\n",
        "\n",
        "Limit(f(x), x, 0).doit()"
      ],
      "metadata": {
        "colab": {
          "base_uri": "https://localhost:8080/",
          "height": 37
        },
        "id": "4UrI1K97c_Ms",
        "outputId": "bfb9885c-c46c-48a5-c409-13d257a855c4"
      },
      "execution_count": null,
      "outputs": [
        {
          "output_type": "execute_result",
          "data": {
            "text/plain": [
              "0"
            ],
            "text/latex": "$\\displaystyle 0$"
          },
          "metadata": {},
          "execution_count": 21
        }
      ]
    },
    {
      "cell_type": "code",
      "source": [
        "# 力技で f(x)= x^2 - 2x + 2 が最小となるxの値を求める。\n",
        "\n",
        "def f(x):\n",
        "    return x**2 - 2*x\n",
        "\n",
        "# print(f(0)) # 2が出る\n",
        "\n",
        "# ① 好きな数をxに代入して始める x=0\n",
        "x = 0\n",
        "delta_x = 0.01\n",
        "epsilon = 1e-5 # 0.00001\n",
        "\n",
        "while(1): # breakされるまで無限ループ\n",
        "    # ② 好きな数をdelta_xだけ変化させてf(x)が減少するか見る。\n",
        "    if f(x) - f(x + delta_x) > 0: # f(x)の方が大きければ、f(x)→f(x+delta_x)で減少したと解釈できる\n",
        "        if f(x) - f(x + delta_x) < epsilon:\n",
        "            break # 変化がεより小さければ、繰り返しから脱出\n",
        "        else:\n",
        "            x = x + delta_x # xの値をdelta_xだけ更新\n",
        "\n",
        "    # ③ 減少しなければ、-delta_xだけ変化させる\n",
        "    else:\n",
        "        if f(x) - f(x - delta_x) < epsilon:\n",
        "            break # 変化がεより小さければ、繰り返しから脱出\n",
        "        else:\n",
        "            x = x - delta_x # xの値をdelta_xだけ更新\n",
        "\n",
        "print(\"f(x)が最小となるxは\", round(x, 2), \"です。このときのf(x)は\", f(x),\"です\")"
      ],
      "metadata": {
        "colab": {
          "base_uri": "https://localhost:8080/"
        },
        "id": "jYCWaB61dvkO",
        "outputId": "a167bd20-891c-4d03-fdac-86101bf02839"
      },
      "execution_count": null,
      "outputs": [
        {
          "output_type": "stream",
          "name": "stdout",
          "text": [
            "f(x)が最小となるxは 1.0 です。このときのf(x)は -1.0 です\n"
          ]
        }
      ]
    },
    {
      "cell_type": "markdown",
      "source": [
        "# 解答用紙"
      ],
      "metadata": {
        "id": "T-S7b5wXb4Yt"
      }
    },
    {
      "cell_type": "markdown",
      "source": [
        "### 解答方法\n",
        "問題のプログラムを完成させて実行し、その出力を記載してください。  \n",
        "AI数学演習Ⅰのレポート課題と同じ形式ですが、数字などが異なっているのに注意してください。"
      ],
      "metadata": {
        "id": "Aki0r0SUb--F"
      }
    },
    {
      "cell_type": "markdown",
      "source": [
        "## 1.計算\n",
        "|問題番号|解答（Pythonの出力した結果を記載する）&nbsp; |\n",
        "|:-:|:-:|\n",
        "|<br> ① <br>&nbsp;||\n",
        "|<br> ② <br>&nbsp;||\n",
        "|<br> ③ <br>&nbsp;||\n",
        "|<br> ④ <br>&nbsp;||\n",
        "\n",
        "## 2.関数\n",
        "|問題番号|解答（Pythonの出力した結果を記載する）|\n",
        "|:-:|:-:|\n",
        "|<br> ① <br>&nbsp;||\n",
        "|<br> ② <br>&nbsp;||\n",
        "|<br> ③ <br>&nbsp;||\n",
        "\n",
        "## 3.入力を受け取る\n",
        "|問題番号|解答（Pythonの出力した結果を記載する）|\n",
        "|:-:|:-:|\n",
        "|<br> ① <br>&nbsp;||\n",
        "|<br> ② <br>&nbsp;||\n",
        "|<br> ③ <br>&nbsp;||\n",
        "\n",
        "## 4.グラフの表示\n",
        "下の空欄に、散布図を模写しましょう。  \n",
        "<br><br><br><br><br><br><br><br><br><br>\n",
        "\n",
        "## 5.平均・分散・標準偏差\n",
        "|問題番号|解答（Pythonの出力した結果を記載する）|\n",
        "|:-:|:-:|\n",
        "|<br> ① <br>&nbsp;||\n",
        "|<br> ② <br>&nbsp;||\n",
        "|<br> ③ <br>&nbsp;||\n",
        "\n",
        "## 6.相関\n",
        "|問題番号|解答（Pythonの出力した結果を記載する）|\n",
        "|:-:|:-:|\n",
        "|<br> ① <br>&nbsp;||\n",
        "\n",
        "## 7.SymPy\n",
        "|問題番号|解答（Pythonの出力した結果を記載する）&nbsp; |\n",
        "|:-:|:-:|\n",
        "|<br> ① <br>&nbsp;||\n",
        "|<br> ② <br>&nbsp;||\n",
        "|<br> ③ <br>&nbsp;||\n",
        "|<br> ④ <br>&nbsp;||\n",
        "\n",
        "## 8.集合\n",
        "|問題番号|解答（Pythonの出力した結果を記載する）&nbsp; |\n",
        "|:-:|:-:|\n",
        "|<br> ① <br>&nbsp;||\n",
        "|<br> ② <br>&nbsp;||\n",
        "|<br> ③ <br>&nbsp;||\n",
        "\n",
        "## 9.確率\n",
        "|問題番号|解答（Pythonの出力した結果を記載する）&nbsp; |\n",
        "|:-:|:-:|\n",
        "|<br> ① <br>&nbsp;||\n",
        "|<br> ② <br>&nbsp;||\n",
        "|<br> ③ <br>&nbsp;||\n",
        "\n",
        "## 10.極限\n",
        "|問題番号|解答（Pythonの出力した結果を記載する）&nbsp; |\n",
        "|:-:|:-:|\n",
        "|<br> ① <br>&nbsp;||\n",
        "|<br> ② <br>&nbsp;||\n",
        "\n",
        "## ボーナス問題（10点）\n",
        "※試験の素点は100点を上限とします。例えば、1~10で95点、ボーナス問題が10点の場合、試験の素点は100点になります。"
      ],
      "metadata": {
        "id": "Zzor-huKcIRR"
      }
    },
    {
      "cell_type": "markdown",
      "source": [
        "|問題番号|解答（Pythonの出力した結果を記載する）&nbsp; |\n",
        "|:-:|:-:|\n",
        "|<br> ① <br>&nbsp;||"
      ],
      "metadata": {
        "id": "l5HYw8qywyVu"
      }
    }
  ]
}
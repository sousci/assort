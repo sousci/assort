{
  "nbformat": 4,
  "nbformat_minor": 0,
  "metadata": {
    "colab": {
      "provenance": [],
      "toc_visible": true,
      "authorship_tag": "ABX9TyO0XG/69ia+PzENwj8IHgkO",
      "include_colab_link": true
    },
    "kernelspec": {
      "name": "python3",
      "display_name": "Python 3"
    },
    "language_info": {
      "name": "python"
    }
  },
  "cells": [
    {
      "cell_type": "markdown",
      "metadata": {
        "id": "view-in-github",
        "colab_type": "text"
      },
      "source": [
        "<a href=\"https://colab.research.google.com/github/sousci/assort/blob/main/AI%E6%95%B0%E5%AD%A6%E2%85%A0_%E3%83%AC%E3%83%9D%E3%83%BC%E3%83%88%E8%AA%B2%E9%A1%8C.ipynb\" target=\"_parent\"><img src=\"https://colab.research.google.com/assets/colab-badge.svg\" alt=\"Open In Colab\"/></a>"
      ]
    },
    {
      "cell_type": "markdown",
      "source": [
        "# AI数学Ⅰ レポート課題\n",
        "レポートの進め方\n",
        "1. このノートブック(.ipynb)を自身のGoogleDriveにコピーします\n",
        "1. プログラムの空欄を埋め、正しく動作する状態にします\n",
        "1. ノートブックの名前を『R6f_AI数学演習レポート_【名前】.ipynb』として、共有リンクをTeamsに貼り付けてください。\n"
      ],
      "metadata": {
        "id": "g7mUZCbMvHFU"
      }
    },
    {
      "cell_type": "markdown",
      "source": [
        "## 1.計算\n",
        "\n",
        "次の計算をするプログラムを完成させましょう。"
      ],
      "metadata": {
        "id": "t1LlykkvoBtt"
      }
    },
    {
      "cell_type": "markdown",
      "source": [
        "① $1+2+3+ ... 97++98+99$"
      ],
      "metadata": {
        "id": "I7IpSCwKi3bE"
      }
    },
    {
      "cell_type": "code",
      "source": [
        "ans1 = 0\n",
        "for i in range(1, ____): # i=100は含まず99までであることに注意\n",
        "    ans1 += i\n",
        "print(sum)"
      ],
      "metadata": {
        "id": "aQGqGrjdi22g"
      },
      "execution_count": null,
      "outputs": []
    },
    {
      "cell_type": "markdown",
      "source": [
        "② $\\sqrt{65536}÷\\sqrt{1024}$"
      ],
      "metadata": {
        "id": "Ui9qNJm7i3tb"
      }
    },
    {
      "cell_type": "code",
      "source": [
        "ans2 = 65536**(____) / 1024**(____)\n",
        "print(ans2)"
      ],
      "metadata": {
        "id": "d3y9m4UOi4CL"
      },
      "execution_count": null,
      "outputs": []
    },
    {
      "cell_type": "markdown",
      "source": [
        "③ $20240728÷29$の余り"
      ],
      "metadata": {
        "id": "c2chmTESi4Pe"
      }
    },
    {
      "cell_type": "code",
      "source": [
        "ans3 = 20240728 _____ 29\n",
        "print(ans3)"
      ],
      "metadata": {
        "id": "YJ4fgrA7i4jj"
      },
      "execution_count": null,
      "outputs": []
    },
    {
      "cell_type": "markdown",
      "source": [
        "④ $4(\\frac{1}{1}-\\frac{1}{3}+\\frac{1}{5}-\\frac{1}{7}+\\frac{1}{9}-...-\\frac{1}{999})$を小数点以下第2位まで  \n",
        "【ヒント】ライプニッツの公式と呼ばれる有名な級数です"
      ],
      "metadata": {
        "id": "Y11KBdvFjB6U"
      }
    },
    {
      "cell_type": "code",
      "source": [
        "from fractions import Fraction\n",
        "ans4 = 0\n",
        "for i in range(1, 501):\n",
        "    if i % 2 == 1: # 奇数項は+\n",
        "        ans4 ____ Fraction(1, 2*i-1)\n",
        "    else:          # 偶数項は-\n",
        "        ans4 ____ Fraction(1, 2*i-1)\n",
        "print(round(float(4 * ans4), 2))"
      ],
      "metadata": {
        "id": "n-W8_9JajCn8"
      },
      "execution_count": null,
      "outputs": []
    },
    {
      "cell_type": "markdown",
      "source": [
        "## 2.関数"
      ],
      "metadata": {
        "id": "6gL_U5BjoukQ"
      }
    },
    {
      "cell_type": "markdown",
      "source": [
        "暑さ指数(WBGT)は熱中症の危険度を判断する数値として利用されています。  \n",
        "WBGTは、乾湿球温度計による\n",
        "- 乾球温度 $T_d$\n",
        "- 湿球温度 $T_w$\n",
        "\n",
        "に加えて、直射日光の影響を考慮し\n",
        "- 黒球温度 $T_b$\n",
        "\n",
        "の3つを、次の式で計算します。\n",
        "\n",
        "$$\n",
        "WBGT = 0.7×T_w + 0.2×T_b + 0.1×T_d\n",
        "$$\n",
        "\n",
        "> 参考：『熱中症予防情報サイト』\"https://www.wbgt.env.go.jp/doc_observation.php\"\n",
        "\n",
        "WBGTを求める関数を定義し、解答に使用しましょう。\n",
        "\n",
        "① 空欄（下線部_____）を埋めて、WBGTを返す自作関数wbgt()を完成させましょう。"
      ],
      "metadata": {
        "id": "DA5wQ90mjY2N"
      }
    },
    {
      "cell_type": "code",
      "source": [
        "def wbgt(w, b, d): # w:湿球、b:黒球、d:乾球\n",
        "    return ____________\n",
        "\n",
        "tw = 26 # 湿球温度\n",
        "tb = 27 # 黒球温度\n",
        "td = 28 # 乾球温度\n",
        "\n",
        "print('湿球{0}度、黒球{1}度、乾球{2}度のとき、WBGTは{3}です'.format(tw, tb, td, wbgt(tw, tb, td)))"
      ],
      "metadata": {
        "id": "4ggpZ7RBjZMp"
      },
      "execution_count": null,
      "outputs": []
    },
    {
      "cell_type": "markdown",
      "source": [
        "② 次の温度のとき、WBGTはいくらになりますか。小数点以下1位までで答えましょう。\n",
        "- 湿球温度：29度\n",
        "- 黒球温度：37度\n",
        "- 乾球温度：31度"
      ],
      "metadata": {
        "id": "zBm-28pGjZbY"
      }
    },
    {
      "cell_type": "code",
      "source": [
        "tw = ___ # 湿球温度\n",
        "tb = ___ # 黒球温度\n",
        "td = ___ # 乾球温度\n",
        "\n",
        "print('湿球{0}度、黒球{1}度、乾球{2}度のとき、WBGTは{3}です'.format(tw, tb, td, wbgt(tw, tb, td)))"
      ],
      "metadata": {
        "id": "Mib8CqUrjZtE"
      },
      "execution_count": null,
      "outputs": []
    },
    {
      "cell_type": "markdown",
      "source": [
        "③ WBGTが28を超えると熱中症リスクが高まると言われています。WBGTの計算結果が28を超えたら警告するプログラムを完成させましょう。  \n",
        "【ヒント】①の温度のときはWBGTが28以下、②の温度のときはWBGTが28を超えます。動作確認に使用しましょう。"
      ],
      "metadata": {
        "id": "-GTcRlMTjZ4y"
      }
    },
    {
      "cell_type": "code",
      "source": [
        "if ______ > ______:\n",
        "    print(\"熱中症に注意\") # WBGTが28を超えるとき、警告する\n",
        "else:\n",
        "    print(\"安全です\")"
      ],
      "metadata": {
        "id": "SzhWvNe2jaM1"
      },
      "execution_count": null,
      "outputs": []
    },
    {
      "cell_type": "markdown",
      "source": [
        "## 3.入力を受け取る\n"
      ],
      "metadata": {
        "id": "uFt2mbjUp_w4"
      }
    },
    {
      "cell_type": "markdown",
      "source": [
        "① 2つのユーザー入力を**浮動小数点型**で受け取り、その和を計算するプログラムを完成させましょう。  "
      ],
      "metadata": {
        "id": "dx-SG_sBj5T6"
      }
    },
    {
      "cell_type": "code",
      "source": [
        "a = float(input())\n",
        "b = float(input())\n",
        "print(a + b)"
      ],
      "metadata": {
        "id": "9lOK7Wlvj5kr"
      },
      "execution_count": null,
      "outputs": []
    },
    {
      "cell_type": "markdown",
      "source": [
        "② 入力する度にその数を加算していくプログラムを完成させましょう。"
      ],
      "metadata": {
        "id": "aDfY9kmaj5yI"
      }
    },
    {
      "cell_type": "code",
      "source": [
        "num = 0\n",
        "while(1): # 無限ループ。数字以外を入力するとエラーで停止する\n",
        "    num += float(input())\n",
        "    print(\"合計値：\", num)"
      ],
      "metadata": {
        "id": "6aRTsMjHj6H5"
      },
      "execution_count": null,
      "outputs": []
    },
    {
      "cell_type": "markdown",
      "source": [
        "③ 三平方の定理は直角三角形に対する定理なので、三平方の定理が成り立つときにその三角形は直角三角形であると言えます。入力した3つの値からこれを判定するプログラムを完成させましょう。  \n",
        "スペース区切りのデータを1行で受け取るには`list(map(int, input().split()))`と書きます。"
      ],
      "metadata": {
        "id": "P4oQJpCCj6UK"
      }
    },
    {
      "cell_type": "code",
      "source": [
        "triangle = list(map(int, input().split()))\n",
        "triangle.sort() # 昇順にソート\n",
        "print(triangle)\n",
        "\n",
        "if ________ + ________ == triangle[2]**2:\n",
        "    print(\"直角三角形です\")\n",
        "else:\n",
        "    print(\"直角三角形ではない\")"
      ],
      "metadata": {
        "id": "mW0fXbaEj6l9"
      },
      "execution_count": null,
      "outputs": []
    },
    {
      "cell_type": "markdown",
      "source": [
        "## 4.グラフの表示\n",
        "\n",
        "① matplotlib.pyplotを使って、次のcsvデータの散布図を表示しましょう。  \n",
        "リンク：  [https://github.com/sousci/assort/raw/main/%E5%B9%B3%E5%9D%87%E6%B0%97%E6%B8%A9%E3%81%A8%E3%82%A2%E3%82%A4%E3%82%B9%E6%94%AF%E5%87%BA%E9%A1%8D.csv](https://github.com/sousci/assort/raw/main/%E5%B9%B3%E5%9D%87%E6%B0%97%E6%B8%A9%E3%81%A8%E3%82%A2%E3%82%A4%E3%82%B9%E6%94%AF%E5%87%BA%E9%A1%8D.csv)"
      ],
      "metadata": {
        "id": "fIMjUghTY_99"
      }
    },
    {
      "cell_type": "code",
      "source": [
        "import numpy as np\n",
        "import pandas as pd\n",
        "import matplotlib.pyplot as plt\n",
        "\n",
        "# データの読み込み\n",
        "file_path = 'https://github.com/sousci/assort/raw/main/%E5%B9%B3%E5%9D%87%E6%B0%97%E6%B8%A9%E3%81%A8%E3%82%A2%E3%82%A4%E3%82%B9%E6%94%AF%E5%87%BA%E9%A1%8D.csv'\n",
        "train_data = pd.read_csv(file_path, encoding='shift_jis')\n",
        "\n",
        "# データの確認\n",
        "print(train_data)\n",
        "\n",
        "# 1列目と2列目のデータを取得\n",
        "x_numbers = train_data.iloc[:, 0]\n",
        "y_numbers = train_data.iloc[:, 1]\n",
        "\n",
        "# 散布図の作成\n",
        "plt.scatter(x_numbers, y_numbers)\n",
        "plt.xlabel(train_data.columns[____])\n",
        "plt.ylabel(train_data.columns[____])\n",
        "plt.________()"
      ],
      "metadata": {
        "id": "P3LWnW0zkM7B"
      },
      "execution_count": null,
      "outputs": []
    },
    {
      "cell_type": "markdown",
      "source": [
        "## 5.平均・分散・標準偏差\n",
        "5名のテストの点数は次の通りです。  \n",
        "[42, 58, 59, 71, 80]"
      ],
      "metadata": {
        "id": "cO_VD6Pse1aU"
      }
    },
    {
      "cell_type": "markdown",
      "source": [
        "① このテストの平均点を求めましょう。"
      ],
      "metadata": {
        "id": "UejUABZAkQ64"
      }
    },
    {
      "cell_type": "code",
      "source": [
        "score = [42, 58, 59, 71, 80]\n",
        "print(np.______(score))"
      ],
      "metadata": {
        "id": "pzlX2q0GkQdx"
      },
      "execution_count": null,
      "outputs": []
    },
    {
      "cell_type": "markdown",
      "source": [
        "② このテストの分散を求めましょう。"
      ],
      "metadata": {
        "id": "FmnnrPtVkRS7"
      }
    },
    {
      "cell_type": "code",
      "source": [
        "score = [42, 58, 59, 71, 80]\n",
        "print(np.______(score))"
      ],
      "metadata": {
        "id": "OOC0uzWwkRiM"
      },
      "execution_count": null,
      "outputs": []
    },
    {
      "cell_type": "markdown",
      "source": [
        "③ このテストの標準偏差を求めましょう。"
      ],
      "metadata": {
        "id": "J8hl6OCfkRuV"
      }
    },
    {
      "cell_type": "code",
      "source": [
        "score = [42, 58, 59, 71, 80]\n",
        "print(np.______(score))"
      ],
      "metadata": {
        "id": "qj_PlY3mkSPC"
      },
      "execution_count": null,
      "outputs": []
    },
    {
      "cell_type": "markdown",
      "source": [
        "## 6.相関"
      ],
      "metadata": {
        "id": "iiupsx-7lC6x"
      }
    },
    {
      "cell_type": "markdown",
      "source": [
        "①問題4の気温とアイスの売上の相関係数を求めましょう。"
      ],
      "metadata": {
        "id": "IwEoY63UlI6t"
      }
    },
    {
      "cell_type": "code",
      "source": [
        "import numpy as np\n",
        "import pandas as pd\n",
        "import matplotlib.pyplot as plt\n",
        "\n",
        "# データの読み込み\n",
        "file_path = 'https://github.com/sousci/assort/raw/main/%E5%B9%B3%E5%9D%87%E6%B0%97%E6%B8%A9%E3%81%A8%E3%82%A2%E3%82%A4%E3%82%B9%E6%94%AF%E5%87%BA%E9%A1%8D.csv'\n",
        "train_data = pd.read_csv(file_path, encoding='shift_jis')\n",
        "\n",
        "# データの確認\n",
        "print(train_data)\n",
        "\n",
        "# 1列目と2列目のデータを取得\n",
        "x_numbers = train_data.iloc[:, 0]\n",
        "y_numbers = train_data.iloc[:, 1]\n",
        "\n",
        "# NumPyのcorrcoef（相関係数）メソッドを使って相関係数を計算\n",
        "correlation_matrix = np.corrcoef(____ , _____)\n",
        "\n",
        "# 相関係数を出力\n",
        "print(\"相関係数:\", correlation_matrix[0, 1])"
      ],
      "metadata": {
        "id": "1WWtTfB6lTbT"
      },
      "execution_count": null,
      "outputs": []
    },
    {
      "cell_type": "markdown",
      "source": [
        "## 7.SymPy\n",
        "SymPyを使って次の作業を行いましょう。"
      ],
      "metadata": {
        "id": "z4aTZbIelXbj"
      }
    },
    {
      "cell_type": "markdown",
      "source": [
        "① $x^3+6x^2y+12xy^2+8y^3$ の因数分解"
      ],
      "metadata": {
        "id": "EbmDenSSlezc"
      }
    },
    {
      "cell_type": "code",
      "source": [
        "from sympy import Symbol\n",
        "x = Symbol('x')\n",
        "y = Symbol('y')\n",
        "\n",
        "from sympy import factor\n",
        "expr1 = ___________________________\n",
        "factor(expr1)"
      ],
      "metadata": {
        "id": "AejIywfCl6zl"
      },
      "execution_count": null,
      "outputs": []
    },
    {
      "cell_type": "markdown",
      "source": [
        "② $(3x-\\frac{1}{2})^3$ の展開"
      ],
      "metadata": {
        "id": "arx8uoORl786"
      }
    },
    {
      "cell_type": "code",
      "source": [
        "from sympy import Symbol\n",
        "x = Symbol('x')\n",
        "\n",
        "from sympy import expand\n",
        "expr2 = ___________________________\n",
        "expand(expr2)"
      ],
      "metadata": {
        "id": "WyTBsjj2l7bM"
      },
      "execution_count": null,
      "outputs": []
    },
    {
      "cell_type": "markdown",
      "source": [
        "③ $\\frac{4x}{x+1}+\\frac{x}{x-2}=3$ の解"
      ],
      "metadata": {
        "id": "rDogtl_-l8X9"
      }
    },
    {
      "cell_type": "code",
      "source": [
        "from sympy import Symbol\n",
        "x = Symbol('x')\n",
        "\n",
        "from sympy import solve\n",
        "expr3 = ___________________________\n",
        "solve(expr3)"
      ],
      "metadata": {
        "id": "HmwZbVshl8pj"
      },
      "execution_count": null,
      "outputs": []
    },
    {
      "cell_type": "markdown",
      "source": [
        "④ 連立方程式の解  \n",
        "$$\n",
        "\\begin{cases}\n",
        "    a + b + c = 12 \\\\\n",
        "    a + 2b = 11 \\\\\n",
        "    a + 2b + 3c = 26\n",
        "  \\end{cases}\n",
        "$$"
      ],
      "metadata": {
        "id": "JO3YnoUml7Lz"
      }
    },
    {
      "cell_type": "code",
      "source": [
        "from sympy import symbols\n",
        "a, b, c = symbols('a, b, c')\n",
        "\n",
        "from sympy import solve\n",
        "expr4_1 = a + b + c - 12\n",
        "expr4_2 = ______________________\n",
        "expr4_3 = ______________________\n",
        "\n",
        "solve((________,________,________))"
      ],
      "metadata": {
        "id": "VExNcZlJ2ZRD"
      },
      "execution_count": null,
      "outputs": []
    },
    {
      "cell_type": "markdown",
      "source": [
        "## 8.集合"
      ],
      "metadata": {
        "id": "5PEcHgq96PLC"
      }
    },
    {
      "cell_type": "markdown",
      "source": [
        "① 集合Aは2から10までの素数を、集合Bは2から10までの奇数を格納し、その積集合(intersect)を求めましょう。"
      ],
      "metadata": {
        "id": "6p44itym6PIO"
      }
    },
    {
      "cell_type": "code",
      "source": [
        "from sympy import FiniteSet\n",
        "a = FiniteSet(2, 3, 5, 7)\n",
        "b = FiniteSet(3, 5, 7, 9)\n",
        "\n",
        "a.________(b)"
      ],
      "metadata": {
        "id": "6pJwaxlr6sAx"
      },
      "execution_count": null,
      "outputs": []
    },
    {
      "cell_type": "markdown",
      "source": [
        "② 集合Aと集合Bの和集合(union)を求めましょう。"
      ],
      "metadata": {
        "id": "KKUCtyBJPouL"
      }
    },
    {
      "cell_type": "code",
      "source": [
        "from sympy import FiniteSet\n",
        "a = FiniteSet(2, 3, 5, 7)\n",
        "b = FiniteSet(3, 5, 7, 9)\n",
        "\n",
        "a.________(b)"
      ],
      "metadata": {
        "id": "BSWCTvIv7QBh"
      },
      "execution_count": null,
      "outputs": []
    },
    {
      "cell_type": "markdown",
      "source": [
        "② 集合Aと集合Bの積集合から、べき集合を求めましょう。"
      ],
      "metadata": {
        "id": "QMeP8j0p7lUb"
      }
    },
    {
      "cell_type": "code",
      "source": [
        "from sympy import FiniteSet\n",
        "a = FiniteSet(2, 3, 5, 7)\n",
        "b = FiniteSet(3, 5, 7, 9)\n",
        "\n",
        "a.________(b).________()"
      ],
      "metadata": {
        "id": "GTOHw81d_m6k"
      },
      "execution_count": null,
      "outputs": []
    },
    {
      "cell_type": "markdown",
      "source": [
        "## 9.確率"
      ],
      "metadata": {
        "id": "kOqi_9TvA-yU"
      }
    },
    {
      "cell_type": "markdown",
      "source": [
        "① 次のルールのゲームで得られる得点の期待値を求めましょう。\n",
        "- 勝ち：+3pt\n",
        "- 負け：-1pt\n",
        "- あいこ：+1pt\n",
        "\n",
        "ただし、勝ち・負け・あいこの確率はいずれも同様とする。"
      ],
      "metadata": {
        "id": "AyeCP3yABAYE"
      }
    },
    {
      "cell_type": "code",
      "source": [
        "e = __________________\n",
        "print(\"期待値：\", e)"
      ],
      "metadata": {
        "id": "-dFd7kwEA-j5"
      },
      "execution_count": null,
      "outputs": []
    },
    {
      "cell_type": "markdown",
      "source": [
        "② $-1\\leq x \\leq 1 , -1\\leq y \\leq 1$の範囲の正方形領域にランダムにプロットをしていく。このうち、第一象限($0\\leq x \\leq 1 , 0\\leq y \\leq 1$)にプロットされる確率を求めましょう。"
      ],
      "metadata": {
        "id": "kV8wqEN4WXZm"
      }
    },
    {
      "cell_type": "code",
      "source": [
        "# 正方領域の面積\n",
        "squared =\n",
        "\n",
        "# そのうち、第一象限の面積\n",
        "quadrant =\n",
        "\n",
        "print(\"確率：\", quadrant / squared)"
      ],
      "metadata": {
        "id": "nJyAxEk0WLPL"
      },
      "execution_count": null,
      "outputs": []
    },
    {
      "cell_type": "markdown",
      "source": [
        "③ ②の場合のシミュレーションを行い、②で求めた確率に近い値が出るか確認しましょう。"
      ],
      "metadata": {
        "id": "-NtgiXFIZKDp"
      }
    },
    {
      "cell_type": "code",
      "source": [
        "import matplotlib.pyplot as plt\n",
        "import numpy as np\n",
        "\n",
        "point_num = 1000 # ポイント数\n",
        "\n",
        "# 乱数生成\n",
        "x = np.random.uniform(__, __, ________)\n",
        "y = np.random.uniform(__, __, ________)\n",
        "\n",
        "# 第一象限の点の数をカウント\n",
        "inside_quadrant = np.sum((x >= __) & (y >= __))\n",
        "\n",
        "# 結果表示\n",
        "print(f\"第一象限の点の数: {inside_quadrant}\")\n",
        "print(f\"第一象限にプロットされる確率: {round(inside_quadrant / point_num, 2)}\")\n",
        "\n",
        "# プロット\n",
        "plt.scatter(x, y, alpha=0.5, label='Points')\n",
        "plt.axhline(0, color='black',linewidth=0.5)\n",
        "plt.axvline(0, color='black',linewidth=0.5)\n",
        "plt.plot([0, 1], [0, 0], color='red', linewidth=2)\n",
        "plt.plot([0, 1], [1, 1], color='red', linewidth=2)\n",
        "plt.plot([0, 0], [0, 1], color='red', linewidth=2)\n",
        "plt.plot([1, 1], [0, 1], color='red', linewidth=2)\n",
        "plt.title('Scatter plot of random points between -1 and 1')\n",
        "plt.xlabel('x')\n",
        "plt.ylabel('y')\n",
        "plt.xlim(-1, 1)\n",
        "plt.ylim(-1, 1)\n",
        "plt.legend()\n",
        "plt.grid(True)\n",
        "plt.show()"
      ],
      "metadata": {
        "id": "6mDGkkJCZVGl"
      },
      "execution_count": null,
      "outputs": []
    },
    {
      "cell_type": "markdown",
      "source": [
        "## 10.極限"
      ],
      "metadata": {
        "id": "CrCLZcHQbkhb"
      }
    },
    {
      "cell_type": "markdown",
      "source": [
        "① 関数$f(x) = x^2 - 2x$ のグラフを表示してください。ただし、$-3 \\leq x \\leq 3$の範囲とします。"
      ],
      "metadata": {
        "id": "QztKNXKsbmwj"
      }
    },
    {
      "cell_type": "code",
      "source": [
        "import numpy as np\n",
        "import matplotlib.pyplot as plt\n",
        "\n",
        "# 関数 f(x) = x^2 - 2x の定義\n",
        "def f(x):\n",
        "    return _______________\n",
        "\n",
        "# x の範囲を設定\n",
        "x = np.linspace(-3, 3, 400)\n",
        "\n",
        "# 関数値を計算\n",
        "y = f(x)\n",
        "\n",
        "# グラフをプロット\n",
        "plt.plot(x, y, label='$f(x) = x^2 - 2x$')\n",
        "plt.xlabel('x')\n",
        "plt.ylabel('f(x)')\n",
        "plt.legend()\n",
        "plt.grid(True)\n",
        "plt.show()\n"
      ],
      "metadata": {
        "id": "afjvut6TcdZ2"
      },
      "execution_count": null,
      "outputs": []
    },
    {
      "cell_type": "markdown",
      "source": [
        "② 関数$f(x) = x^2 - 2x$ の極限$(x→0)$を求めましょう。"
      ],
      "metadata": {
        "id": "p0kltgLqdLRw"
      }
    },
    {
      "cell_type": "code",
      "source": [
        "from sympy import Limit, Symbol, S\n",
        "x = Symbol('x')\n",
        "\n",
        "Limit(___, ___, ___).doit()"
      ],
      "metadata": {
        "id": "nQ1s_Pzydd04"
      },
      "execution_count": null,
      "outputs": []
    },
    {
      "cell_type": "markdown",
      "source": [
        "③ $x$を変化させて$f(x)$が最小となる$x$を求めましょう。ただし、次の条件で実行してください。\n",
        "- $x$の初期値：0\n",
        "- $x$の変化量$Δx$：\n",
        "- 繰り返しを終了する$Δx$の最小の変化量$ε$：0.00001"
      ],
      "metadata": {
        "id": "VbQyp2v8eIKo"
      }
    },
    {
      "cell_type": "code",
      "source": [
        "x = ________\n",
        "delta_x = ________\n",
        "epsilon = ________\n",
        "\n",
        "while(1): # breakされるまで無限ループ\n",
        "    # ② 好きな数をdelta_xだけ変化させてf(x)が減少するか見る。\n",
        "    if f(x) - f(x + delta_x) > 0: # f(x)の方が大きければ、f(x)→f(x+delta_x)で減少したと解釈できる\n",
        "        if f(x) - f(x + delta_x) < epsilon:\n",
        "            break # 変化がεより小さければ、繰り返しから脱出\n",
        "        else:\n",
        "            x = x + delta_x # xの値をdelta_xだけ更新\n",
        "\n",
        "    # ③ 減少しなければ、-delta_xだけ変化させる\n",
        "    else:\n",
        "        if f(x) - f(x - delta_x) < epsilon:\n",
        "            break # 変化がεより小さければ、繰り返しから脱出\n",
        "        else:\n",
        "            x = x - delta_x # xの値をdelta_xだけ更新\n",
        "\n",
        "print(\"f(x)が最小となるxは\", round(x, 2), \"です。このときのf(x)は\", f(x),\"です\")"
      ],
      "metadata": {
        "id": "8E05I2zfeUXB"
      },
      "execution_count": null,
      "outputs": []
    }
  ]
}